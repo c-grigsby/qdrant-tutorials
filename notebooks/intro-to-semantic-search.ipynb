{
 "cells": [
  {
   "cell_type": "markdown",
   "id": "80f384e6",
   "metadata": {},
   "source": [
    "<img src=\"https://qdrant.tech/images/logo_with_text.svg\"/>"
   ]
  },
  {
   "cell_type": "markdown",
   "id": "89ec32fd",
   "metadata": {},
   "source": [
    "<h1 style=\"font-size:3rem;color:#CE1620;\">Introduction to Semantic Search with Qdrant</h1>"
   ]
  },
  {
   "cell_type": "markdown",
   "id": "02cfdd87",
   "metadata": {},
   "source": [
    "### For more on Qdrant vector databases visit: https://qdrant.tech/"
   ]
  },
  {
   "cell_type": "markdown",
   "id": "41f25ec7",
   "metadata": {},
   "source": [
    "### Install Dependencies"
   ]
  },
  {
   "cell_type": "markdown",
   "id": "d39d39f1",
   "metadata": {},
   "source": [
    "You need to process your data so that the search engine can work with it. The [Sentence Transformers](https://www.sbert.net/) framework gives you access to common Large Language Models that turn raw data into embeddings."
   ]
  },
  {
   "cell_type": "code",
   "execution_count": 1,
   "id": "5b48a4f9",
   "metadata": {},
   "outputs": [],
   "source": [
    "# !pip install sentence-transformers "
   ]
  },
  {
   "cell_type": "markdown",
   "id": "b7e716d2",
   "metadata": {},
   "source": [
    "Once encoded, this data needs to be kept somewhere. Qdrant lets you store data as embeddings. You can also use Qdrant to run search queries against this data. This means that you can ask the engine to give you relevant answers that go way beyond keyword matching."
   ]
  },
  {
   "cell_type": "code",
   "execution_count": 2,
   "id": "defb197f",
   "metadata": {},
   "outputs": [],
   "source": [
    "# !pip install qdrant-client"
   ]
  },
  {
   "cell_type": "markdown",
   "id": "f6e4f7b6",
   "metadata": {},
   "source": [
    "### Import the Models\n",
    "\n",
    "Once the two main frameworks are defined, you need to specify the exact models this engine will use. Here we use the Qdrant Client for transactions with Qdrant, but for Qdrant API documentation visit: https://qdrant.github.io/qdrant/redoc/index.html#section/Examples"
   ]
  },
  {
   "cell_type": "code",
   "execution_count": 3,
   "id": "03e578c6",
   "metadata": {},
   "outputs": [],
   "source": [
    "from qdrant_client import models, QdrantClient\n",
    "from sentence_transformers import SentenceTransformer"
   ]
  },
  {
   "cell_type": "markdown",
   "id": "84b6285a",
   "metadata": {},
   "source": [
    "### Generate a sentence encoder\n",
    "\n",
    "The Sentence Transformers framework contains many embedding models. However, all-MiniLM-L6-v2 is the fastest encoder for this tutorial."
   ]
  },
  {
   "cell_type": "code",
   "execution_count": 4,
   "id": "6fadf485",
   "metadata": {},
   "outputs": [],
   "source": [
    "# all-MiniLM-L6-v2 - is a distilated (lightweight) version of MPNet model, optimized for the fast inference\n",
    "# Full list of available models: https://www.sbert.net/docs/pretrained_models.html\n",
    "encoder = SentenceTransformer('all-MiniLM-L6-v2', device=\"cpu\")"
   ]
  },
  {
   "cell_type": "markdown",
   "id": "71caba68",
   "metadata": {},
   "source": [
    "# Add the Dataset"
   ]
  },
  {
   "cell_type": "markdown",
   "id": "abf7ff12",
   "metadata": {},
   "source": [
    "[all-MiniLM-L6-v2](https://huggingface.co/sentence-transformers/all-MiniLM-L6-v2) will encode the data you provide. Here you will list all the science fiction books in your library. Each book has metadata, a name, author, publication year and a short description."
   ]
  },
  {
   "cell_type": "code",
   "execution_count": 5,
   "id": "fd6ec9c2",
   "metadata": {},
   "outputs": [],
   "source": [
    "documents = [\n",
    "{ \"name\": \"The Time Machine\", \"description\": \"A man travels through time and witnesses the evolution of humanity.\", \"author\": \"H.G. Wells\", \"year\": 1895 },\n",
    "{ \"name\": \"Ender's Game\", \"description\": \"A young boy is trained to become a military leader in a war against an alien race.\", \"author\": \"Orson Scott Card\", \"year\": 1985 },\n",
    "{ \"name\": \"Brave New World\", \"description\": \"A dystopian society where people are genetically engineered and conditioned to conform to a strict social hierarchy.\", \"author\": \"Aldous Huxley\", \"year\": 1932 },\n",
    "{ \"name\": \"The Hitchhiker's Guide to the Galaxy\", \"description\": \"A comedic science fiction series following the misadventures of an unwitting human and his alien friend.\", \"author\": \"Douglas Adams\", \"year\": 1979 },\n",
    "{ \"name\": \"Dune\", \"description\": \"A desert planet is the site of political intrigue and power struggles.\", \"author\": \"Frank Herbert\", \"year\": 1965 },\n",
    "{ \"name\": \"Foundation\", \"description\": \"A mathematician develops a science to predict the future of humanity and works to save civilization from collapse.\", \"author\": \"Isaac Asimov\", \"year\": 1951 },\n",
    "{ \"name\": \"Snow Crash\", \"description\": \"A futuristic world where the internet has evolved into a virtual reality metaverse.\", \"author\": \"Neal Stephenson\", \"year\": 1992 },\n",
    "{ \"name\": \"Neuromancer\", \"description\": \"A hacker is hired to pull off a near-impossible hack and gets pulled into a web of intrigue.\", \"author\": \"William Gibson\", \"year\": 1984 },\n",
    "{ \"name\": \"The War of the Worlds\", \"description\": \"A Martian invasion of Earth throws humanity into chaos.\", \"author\": \"H.G. Wells\", \"year\": 1898 },\n",
    "{ \"name\": \"The Hunger Games\", \"description\": \"A dystopian society where teenagers are forced to fight to the death in a televised spectacle.\", \"author\": \"Suzanne Collins\", \"year\": 2008 },\n",
    "{ \"name\": \"The Andromeda Strain\", \"description\": \"A deadly virus from outer space threatens to wipe out humanity.\", \"author\": \"Michael Crichton\", \"year\": 1969 },\n",
    "{ \"name\": \"The Left Hand of Darkness\", \"description\": \"A human ambassador is sent to a planet where the inhabitants are genderless and can change gender at will.\", \"author\": \"Ursula K. Le Guin\", \"year\": 1969 },\n",
    "{ \"name\": \"The Three-Body Problem\", \"description\": \"Humans encounter an alien civilization that lives in a dying system.\", \"author\": \"Liu Cixin\", \"year\": 2008 }\n",
    "]"
   ]
  },
  {
   "cell_type": "markdown",
   "id": "fcbf9b5c",
   "metadata": {},
   "source": [
    "# Define Storage Location"
   ]
  },
  {
   "cell_type": "markdown",
   "id": "ddd06895",
   "metadata": {},
   "source": [
    "You need to tell Qdrant where to store embeddings. For this basic demo, your local computer will use its memory as temporary storage."
   ]
  },
  {
   "cell_type": "code",
   "execution_count": 6,
   "id": "049f9afc",
   "metadata": {},
   "outputs": [],
   "source": [
    "qdrant = QdrantClient(\":memory:\") "
   ]
  },
  {
   "cell_type": "markdown",
   "id": "c5721abe",
   "metadata": {},
   "source": [
    "# Create a Collection"
   ]
  },
  {
   "cell_type": "markdown",
   "id": "9386782f",
   "metadata": {},
   "source": [
    "All data in Qdrant is organized by collections. In this case, you are storing books, so we are calling it my_books."
   ]
  },
  {
   "cell_type": "code",
   "execution_count": 7,
   "id": "6fbdfdf3",
   "metadata": {},
   "outputs": [
    {
     "data": {
      "text/plain": [
       "True"
      ]
     },
     "execution_count": 7,
     "metadata": {},
     "output_type": "execute_result"
    }
   ],
   "source": [
    "qdrant.recreate_collection(\n",
    "    # The name of the collection to create\n",
    "    collection_name=\"my_books\",\n",
    "    \n",
    "    vectors_config=models.VectorParams(\n",
    "        # The dimensionality of the vectors created by our encoder model\n",
    "        size=encoder.get_sentence_embedding_dimension(), \n",
    "        \n",
    "        # The distance metric used to calculate the similarity or distance between vectors in the collection\n",
    "        distance=models.Distance.COSINE\n",
    "    )\n",
    ")"
   ]
  },
  {
   "cell_type": "markdown",
   "id": "9bf3c22c",
   "metadata": {},
   "source": [
    "- Use [recreate_collection]() if you are experimenting and running the script several times. This function will first try to remove an existing collection with the same name.\n",
    "\n",
    "- The [vector_size]() parameter defines the size of the vectors for a specific collection. If their size is different, it is impossible to calculate the distance between them. 384 is the encoder output dimensionality. You can also use model.get_sentence_embedding_dimension() to get the dimensionality of the model you are using.\n",
    "\n",
    "- The distance parameter lets you specify the function used to measure the distance between two points. For more on the distance metrics supported by Qdrant visit: https://qdrant.tech/documentation/concepts/search/"
   ]
  },
  {
   "cell_type": "markdown",
   "id": "3f576184",
   "metadata": {},
   "source": [
    "# Upload Data to Collection"
   ]
  },
  {
   "cell_type": "markdown",
   "id": "339490b3",
   "metadata": {},
   "source": [
    "Tell the database to upload [documents]() to the [my_books]() collection. This will give each record (point) an id, a vector, and a payload. The payload is just the metadata from the dataset. "
   ]
  },
  {
   "cell_type": "code",
   "execution_count": 8,
   "id": "99add954",
   "metadata": {},
   "outputs": [],
   "source": [
    "qdrant.upload_records(\n",
    "    # The collection to add points to\n",
    "    collection_name=\"my_books\",\n",
    "    \n",
    "    # The points to be uploaded\n",
    "    records=[\n",
    "        models.Record(\n",
    "            # A value for the id of the point\n",
    "            id=idx,\n",
    "            # Encode the sentence with our encoder model and persist as a vector within the point \n",
    "            vector=encoder.encode(doc[\"description\"]).tolist(),\n",
    "            # Metadata from the sentence previously encoded\n",
    "            payload=doc\n",
    "            # Interate through the 'documents' dataset\n",
    "        ) for idx, doc in enumerate(documents)\n",
    "    ]\n",
    ")"
   ]
  },
  {
   "cell_type": "markdown",
   "id": "c460a12a",
   "metadata": {},
   "source": [
    "# Query the Search Engine"
   ]
  },
  {
   "cell_type": "markdown",
   "id": "21edf50a",
   "metadata": {},
   "source": [
    "Now that the data is stored in Qdrant, you can ask it questions and receive semantically relevant results."
   ]
  },
  {
   "cell_type": "code",
   "execution_count": 9,
   "id": "d374eaff",
   "metadata": {},
   "outputs": [
    {
     "data": {
      "text/html": [
       "<div>\n",
       "<style scoped>\n",
       "    .dataframe tbody tr th:only-of-type {\n",
       "        vertical-align: middle;\n",
       "    }\n",
       "\n",
       "    .dataframe tbody tr th {\n",
       "        vertical-align: top;\n",
       "    }\n",
       "\n",
       "    .dataframe thead th {\n",
       "        text-align: right;\n",
       "    }\n",
       "</style>\n",
       "<table border=\"1\" class=\"dataframe\">\n",
       "  <thead>\n",
       "    <tr style=\"text-align: right;\">\n",
       "      <th></th>\n",
       "      <th>payload</th>\n",
       "      <th>score</th>\n",
       "    </tr>\n",
       "  </thead>\n",
       "  <tbody>\n",
       "    <tr>\n",
       "      <th>0</th>\n",
       "      <td>{'name': 'The War of the Worlds', 'description': 'A Martian invasion of Earth throws humanity into chaos.', 'author': 'H.G. Wells', 'year': 1898}</td>\n",
       "      <td>0.570093</td>\n",
       "    </tr>\n",
       "    <tr>\n",
       "      <th>1</th>\n",
       "      <td>{'name': 'The Hitchhiker's Guide to the Galaxy', 'description': 'A comedic science fiction series following the misadventures of an unwitting human and his alien friend.', 'author': 'Douglas Adams', 'year': 1979}</td>\n",
       "      <td>0.504047</td>\n",
       "    </tr>\n",
       "    <tr>\n",
       "      <th>2</th>\n",
       "      <td>{'name': 'The Three-Body Problem', 'description': 'Humans encounter an alien civilization that lives in a dying system.', 'author': 'Liu Cixin', 'year': 2008}</td>\n",
       "      <td>0.459029</td>\n",
       "    </tr>\n",
       "  </tbody>\n",
       "</table>\n",
       "</div>"
      ],
      "text/plain": [
       "                                                                                                                                                                                                                payload  \\\n",
       "0                                                                     {'name': 'The War of the Worlds', 'description': 'A Martian invasion of Earth throws humanity into chaos.', 'author': 'H.G. Wells', 'year': 1898}   \n",
       "1  {'name': 'The Hitchhiker's Guide to the Galaxy', 'description': 'A comedic science fiction series following the misadventures of an unwitting human and his alien friend.', 'author': 'Douglas Adams', 'year': 1979}   \n",
       "2                                                        {'name': 'The Three-Body Problem', 'description': 'Humans encounter an alien civilization that lives in a dying system.', 'author': 'Liu Cixin', 'year': 2008}   \n",
       "\n",
       "      score  \n",
       "0  0.570093  \n",
       "1  0.504047  \n",
       "2  0.459029  "
      ]
     },
     "execution_count": 9,
     "metadata": {},
     "output_type": "execute_result"
    }
   ],
   "source": [
    "import pandas as pd\n",
    "\n",
    "hits = qdrant.search(\n",
    "    # The collection to query\n",
    "    collection_name=\"my_books\",\n",
    "    # The semantic search string, here we search for \"alien invasion\" from our book descriptions\n",
    "    query_vector=encoder.encode(\"alien invasion\").tolist(),\n",
    "    # And provide a limit of 3 results\n",
    "    limit=3\n",
    ")\n",
    "\n",
    "df_results = pd.DataFrame(columns=['payload', 'score'])\n",
    "\n",
    "# Display the payload and hit score from our results\n",
    "for hit in hits:\n",
    "    df_results.loc[len(df_results)] = [hit.payload, hit.score]\n",
    "\n",
    "pd.set_option('display.max_colwidth', None)\n",
    "df_results.head()"
   ]
  },
  {
   "cell_type": "markdown",
   "id": "84a76e32",
   "metadata": {},
   "source": [
    "Above the search engine shows three of the most likely responses that have to do with an \"alien invasion\" as we previously queried. Each of the responses is assigned a score to show how close the response is to the original inquiry."
   ]
  },
  {
   "cell_type": "markdown",
   "id": "e2df4c60",
   "metadata": {},
   "source": [
    "## Filter Results\n",
    "\n",
    "How about the most recent book from the early 2000s?"
   ]
  },
  {
   "cell_type": "code",
   "execution_count": 10,
   "id": "6235373f",
   "metadata": {},
   "outputs": [
    {
     "data": {
      "text/html": [
       "<div>\n",
       "<style scoped>\n",
       "    .dataframe tbody tr th:only-of-type {\n",
       "        vertical-align: middle;\n",
       "    }\n",
       "\n",
       "    .dataframe tbody tr th {\n",
       "        vertical-align: top;\n",
       "    }\n",
       "\n",
       "    .dataframe thead th {\n",
       "        text-align: right;\n",
       "    }\n",
       "</style>\n",
       "<table border=\"1\" class=\"dataframe\">\n",
       "  <thead>\n",
       "    <tr style=\"text-align: right;\">\n",
       "      <th></th>\n",
       "      <th>payload</th>\n",
       "      <th>score</th>\n",
       "    </tr>\n",
       "  </thead>\n",
       "  <tbody>\n",
       "    <tr>\n",
       "      <th>0</th>\n",
       "      <td>{'name': 'The Three-Body Problem', 'description': 'Humans encounter an alien civilization that lives in a dying system.', 'author': 'Liu Cixin', 'year': 2008}</td>\n",
       "      <td>0.459029</td>\n",
       "    </tr>\n",
       "  </tbody>\n",
       "</table>\n",
       "</div>"
      ],
      "text/plain": [
       "                                                                                                                                                          payload  \\\n",
       "0  {'name': 'The Three-Body Problem', 'description': 'Humans encounter an alien civilization that lives in a dying system.', 'author': 'Liu Cixin', 'year': 2008}   \n",
       "\n",
       "      score  \n",
       "0  0.459029  "
      ]
     },
     "execution_count": 10,
     "metadata": {},
     "output_type": "execute_result"
    }
   ],
   "source": [
    "hits = qdrant.search(\n",
    "    # The collection to search\n",
    "    collection_name=\"my_books\",\n",
    "    # The semantic search string\n",
    "    query_vector=encoder.encode(\"alien invasion\").tolist(),\n",
    "    \n",
    "    # Apply a filter\n",
    "    query_filter=models.Filter(\n",
    "        must=[\n",
    "            models.FieldCondition(\n",
    "                # Where the year\n",
    "                key=\"year\",\n",
    "                range=models.Range(\n",
    "                    # Is greater than or equal to 2000\n",
    "                    gte=2000\n",
    "                )\n",
    "            )\n",
    "        ]\n",
    "    ),\n",
    "    # Limit to only the top result\n",
    "    limit=1\n",
    ")\n",
    "\n",
    "\n",
    "df_filter_results = pd.DataFrame(columns=['payload', 'score'])\n",
    "\n",
    "# Display the payload and hit score from our results\n",
    "for hit in hits:\n",
    "    df_filter_results.loc[len(df_filter_results)] = [hit.payload, hit.score]\n",
    "\n",
    "df_filter_results.head()"
   ]
  },
  {
   "cell_type": "markdown",
   "id": "b28dce38",
   "metadata": {},
   "source": [
    "The query has been narrowed down to one result from 2008"
   ]
  },
  {
   "cell_type": "markdown",
   "id": "5474db1a",
   "metadata": {},
   "source": [
    "# What's Next?"
   ]
  },
  {
   "cell_type": "markdown",
   "id": "c553802e",
   "metadata": {},
   "source": [
    "Try building an actual [Neural Search Service with a complete API and a dataset](https://qdrant.tech/documentation/tutorials/neural-search/)"
   ]
  }
 ],
 "metadata": {
  "kernelspec": {
   "display_name": "Python 3 (ipykernel)",
   "language": "python",
   "name": "python3"
  },
  "language_info": {
   "codemirror_mode": {
    "name": "ipython",
    "version": 3
   },
   "file_extension": ".py",
   "mimetype": "text/x-python",
   "name": "python",
   "nbconvert_exporter": "python",
   "pygments_lexer": "ipython3",
   "version": "3.10.9"
  }
 },
 "nbformat": 4,
 "nbformat_minor": 5
}
